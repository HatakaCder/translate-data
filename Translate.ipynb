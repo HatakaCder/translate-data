{
  "cells": [
    {
      "cell_type": "code",
      "execution_count": 1,
      "metadata": {
        "id": "FumekT_bXv9h"
      },
      "outputs": [],
      "source": [
        "from deep_translator import GoogleTranslator\n",
        "from tqdm import tqdm\n",
        "import translators as ts\n",
        "import numpy as np\n",
        "import pandas as pd\n",
        "import os"
      ]
    },
    {
      "cell_type": "code",
      "execution_count": 2,
      "metadata": {
        "id": "Hq7rPyrHIS1Q"
      },
      "outputs": [],
      "source": [
        "drop_columns = ['answer',\n",
        " 'ccid',\n",
        " 'context_id',\n",
        " 'course_id',\n",
        " 'course_order',\n",
        " 'create_time',\n",
        " 'end',\n",
        " 'enroll_time',\n",
        " 'exercise_id',\n",
        " 'gender',\n",
        " 'graph_predict',\n",
        " 'ground_truth',\n",
        " 'id',\n",
        " 'language',\n",
        " 'location',\n",
        " 'name_en',\n",
        " 'problem_id',\n",
        " 'resource_id',\n",
        " 'score',\n",
        " 'sign',\n",
        " 'start',\n",
        " 'text_predict',\n",
        " 'type',\n",
        " 'user_id',\n",
        " 'year_of_birth']\n",
        "drop_keys = ['resource_id', 'chapter']"
      ]
    },
    {
      "cell_type": "code",
      "execution_count": 54,
      "metadata": {
        "id": "bCj4Muw_7QjO"
      },
      "outputs": [],
      "source": [
        "class Translate:\n",
        "    def __init__(self, df, name, type_trans, startpos=0, checkpoint=None):\n",
        "        self.df = df\n",
        "        self.name = name\n",
        "        self.type_trans = type_trans\n",
        "        self.startpos = startpos\n",
        "        if checkpoint == None:\n",
        "            self.checkpoint = len(df)\n",
        "        else:\n",
        "            self.checkpoint = checkpoint\n",
        "\n",
        "    def save_file(self):\n",
        "        if os.path.isdir('translated') is False:\n",
        "            os.mkdir('translated')\n",
        "        self.df.to_json(f'translated/{name}_translated.json', orient='records', force_ascii=False)\n",
        "        return self.df\n",
        "\n",
        "    def translate_text(self, text):\n",
        "        if text != None:\n",
        "            if self.type_trans == 'deep_translator':\n",
        "                text = GoogleTranslator(source='auto', target='vi').translate(text=text)\n",
        "            elif self.type_trans == 'translator':\n",
        "                text = ts.translate_text(text, to_language='vi', if_ignore_empty_query=True)\n",
        "            else: pass\n",
        "        return text\n",
        "\n",
        "    def translate_list(self, lst):\n",
        "        if len(lst)!=0:\n",
        "            valid_data = [item for item in lst if item is not None]\n",
        "            random_sample = valid_data[0]\n",
        "\n",
        "            type_rnd = type(random_sample).__name__\n",
        "            if type_rnd == 'str':\n",
        "                lst = [self.translate_text(item) for item in lst]\n",
        "            elif type_rnd == 'dict':\n",
        "                lst = [self.translate_dict(item) for item in lst]\n",
        "            else: pass\n",
        "        return lst\n",
        "\n",
        "    def translate_dict(self, dct):\n",
        "        lst_keys = list(dct.keys())\n",
        "\n",
        "        if len(lst_keys) != 0:\n",
        "            lst_keys = np.setdiff1d(lst_keys, drop_keys)\n",
        "            for item in lst_keys:\n",
        "                type_keys_dict = type(dct[item]).__name__\n",
        "\n",
        "                if type_keys_dict == 'list':\n",
        "                    dct[item] = self.translate_list(dct[item])\n",
        "                elif type_keys_dict == 'str':\n",
        "                    dct[item] = self.translate_text(dct[item])\n",
        "        return dct\n",
        "\n",
        "    def translate_a(self, col_df_dict):\n",
        "        print(\"Start pos:\", self.startpos)\n",
        "        old_sp = self.startpos\n",
        "        old_idx = self.startpos\n",
        "        for idx in tqdm (range (self.startpos, len(self.df)), desc=\"Translating...\"):\n",
        "            for col_name, col_type in col_df_dict.items():\n",
        "                if col_type=='str':\n",
        "                    self.df.at[idx, col_name]=self.translate_text(self.df.at[idx, col_name])\n",
        "                elif col_type=='list':\n",
        "                    self.df.at[idx, col_name]=self.translate_list(self.df.at[idx, col_name])\n",
        "                elif col_type=='dict':\n",
        "                    self.df.at[idx, col_name]=self.translate_dict(self.df.at[idx, col_name])\n",
        "                else: continue\n",
        "\n",
        "            if (idx-old_sp+1) % self.checkpoint == 0:\n",
        "                self.df.iloc[old_idx:idx] = self.save_file().iloc[old_idx:idx]\n",
        "                old_idx = idx\n",
        "                self.startpos = idx + 1\n",
        "        self.df.iloc[old_idx:] = self.save_file().iloc[old_idx:]\n",
        "        self.startpos = len(self.df)\n",
        "\n",
        "    def translate_data(self):\n",
        "        if os.path.exists(f'translated/{self.name}_translated.json'):\n",
        "            ans = input(f\"Do you want to overwrite the exist file: {self.name}_translated.json? (Y/N)\")\n",
        "            if ans.lower() != 'y': return self.df\n",
        "\n",
        "        if self.checkpoint is None: checkpoint = len(self.df)\n",
        "\n",
        "        col_df = np.setdiff1d(np.array(self.df.columns), drop_columns)\n",
        "        col_types = self.df[col_df].apply(lambda col: type(col[0])).to_numpy()\n",
        "        col_df_dict = dict(zip(col_df, [col_type.__name__ for col_type in col_types]))\n",
        "\n",
        "        while self.startpos < len(self.df):\n",
        "            try:\n",
        "                self.translate_a(col_df_dict)\n",
        "            except Exception as e:\n",
        "                print(\"Loi bien dich\")\n",
        "\n",
        "        return self.df"
      ]
    },
    {
      "cell_type": "code",
      "execution_count": 57,
      "metadata": {
        "id": "Z9efR49UIOeP"
      },
      "outputs": [],
      "source": [
        "name = 'example'\n",
        "folder = ''\n",
        "folder = folder + '/' if folder != '' else ''\n",
        "df = pd.read_json(f'{folder}{name}.json')"
      ]
    },
    {
      "cell_type": "code",
      "execution_count": 60,
      "metadata": {
        "id": "nFS2uaj0-7ke"
      },
      "outputs": [],
      "source": [
        "t = Translate(df, name, 'translator', startpos=0, checkpoint=10)"
      ]
    },
    {
      "cell_type": "code",
      "execution_count": null,
      "metadata": {
        "colab": {
          "base_uri": "https://localhost:8080/"
        },
        "id": "zsfoHRI4_M5B",
        "outputId": "487ad1a0-1712-4fa5-802c-eab3a2bd2ee1"
      },
      "outputs": [
        {
          "name": "stdout",
          "output_type": "stream",
          "text": [
            "Start pos: 0\n"
          ]
        },
        {
          "name": "stderr",
          "output_type": "stream",
          "text": [
            "Translating...:  17%|█▋        | 172/1000 [1:47:18<8:36:35, 37.43s/it]\n"
          ]
        },
        {
          "name": "stdout",
          "output_type": "stream",
          "text": [
            "Loi bien dich\n",
            "Start pos: 170\n"
          ]
        },
        {
          "name": "stderr",
          "output_type": "stream",
          "text": [
            "Translating...:  31%|███       | 254/830 [2:28:01<5:35:40, 34.97s/it]\n"
          ]
        },
        {
          "name": "stdout",
          "output_type": "stream",
          "text": [
            "Loi bien dich\n",
            "Start pos: 420\n"
          ]
        },
        {
          "name": "stderr",
          "output_type": "stream",
          "text": [
            "Translating...:   5%|▍         | 28/580 [18:45<5:53:12, 38.39s/it]"
          ]
        }
      ],
      "source": [
        "t.translate_data()"
      ]
    },
    {
      "cell_type": "code",
      "execution_count": null,
      "metadata": {
        "id": "w6jBx9SyJ0PH"
      },
      "outputs": [],
      "source": []
    }
  ],
  "metadata": {
    "colab": {
      "provenance": []
    },
    "kernelspec": {
      "display_name": "Python 3",
      "name": "python3"
    },
    "language_info": {
      "name": "python"
    }
  },
  "nbformat": 4,
  "nbformat_minor": 0
}
